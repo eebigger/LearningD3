This notebook is to document the process of creating a Treemap using D3js with data from MusicBrainz.

Objectives: 
    1) Utilize MusicBrainz data in json format 
    2) Create a Treemap in D3js using said data
    3) Make Treemap interactive
    
 